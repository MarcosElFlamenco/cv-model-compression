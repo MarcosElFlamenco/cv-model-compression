{
 "cells": [
  {
   "cell_type": "code",
   "execution_count": null,
   "metadata": {},
   "outputs": [
    {
     "ename": "NameError",
     "evalue": "name 'TensorRTInference' is not defined",
     "output_type": "error",
     "traceback": [
      "\u001b[31m---------------------------------------------------------------------------\u001b[39m",
      "\u001b[31mNameError\u001b[39m                                 Traceback (most recent call last)",
      "\u001b[36mCell\u001b[39m\u001b[36m \u001b[39m\u001b[32mIn[3]\u001b[39m\u001b[32m, line 8\u001b[39m\n\u001b[32m      6\u001b[39m class_names = \u001b[38;5;28;01mNone\u001b[39;00m\n\u001b[32m      7\u001b[39m \u001b[38;5;66;03m# Create inference engine\u001b[39;00m\n\u001b[32m----> \u001b[39m\u001b[32m8\u001b[39m engine = \u001b[43mTensorRTInference\u001b[49m(model_path)\n\u001b[32m     10\u001b[39m \u001b[38;5;66;03m# Path to test image\u001b[39;00m\n\u001b[32m     11\u001b[39m test_image_path = \u001b[33m\"\u001b[39m\u001b[33mimages/image2.png\u001b[39m\u001b[33m\"\u001b[39m\n",
      "\u001b[31mNameError\u001b[39m: name 'TensorRTInference' is not defined"
     ]
    }
   ],
   "source": [
    "import tensorRT_utils as utils\n",
    "import importlib\n",
    "importlib.reload(utils)\n",
    "\n",
    "model_path = \"models/trafficcamnet_pruned_onnx_v1.0.4/resnet18_trafficcamnet_pruned.onnx\"\n",
    "class_names = None\n",
    "# Create inference engine\n",
    "engine = utils.TensorRTInference(model_path)\n",
    "\n",
    "# Path to test image\n",
    "test_image_path = \"images/image2.png\"\n",
    "\n",
    "# Run inference\n",
    "prediction, confidence = engine.classify_image(test_image_path, class_names)\n",
    "\n",
    "print(f\"Prediction: {prediction}\")\n",
    "print(f\"Confidence: {confidence:.4f}\")\n",
    "\n"
   ]
  }
 ],
 "metadata": {
  "kernelspec": {
   "display_name": "env_compression",
   "language": "python",
   "name": "python3"
  },
  "language_info": {
   "codemirror_mode": {
    "name": "ipython",
    "version": 3
   },
   "file_extension": ".py",
   "mimetype": "text/x-python",
   "name": "python",
   "nbconvert_exporter": "python",
   "pygments_lexer": "ipython3",
   "version": "3.12.3"
  }
 },
 "nbformat": 4,
 "nbformat_minor": 2
}
