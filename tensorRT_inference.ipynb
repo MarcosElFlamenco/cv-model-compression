{
 "cells": [
  {
   "cell_type": "code",
   "execution_count": 12,
   "metadata": {},
   "outputs": [
    {
     "name": "stdout",
     "output_type": "stream",
     "text": [
      "Loading existing TensorRT engine from models/trafficcamnet_pruned_onnx_v1.0.4/resnet18_trafficcamnet_pruned.engine\n",
      "Loaded TensorRT engine: models/trafficcamnet_pruned_onnx_v1.0.4/resnet18_trafficcamnet_pruned.engine\n",
      "TensorRT 8.x+ API: Input name: input_1:0, shape: (-1, 3, 544, 960)\n",
      "TensorRT 8.x+ API: Output name: output_cov/Sigmoid:0, shape: (-1, 4, 34, 60)\n",
      "predictions [0. 0. 0. ... 0. 0. 0.]\n",
      "Prediction: 0\n",
      "Confidence: 0.0000\n",
      "[03/18/2025-15:41:18] [TRT] [E] IExecutionContext::enqueueV3: Error Code 3: API Usage Error (Parameter check failed, condition: mContext.profileObliviousBindings.at(profileObliviousIndex) || getPtrOrNull(mOutputAllocators, profileObliviousIndex). Neither address or allocator is set for output tensor output_bbox/BiasAdd:0. Call setOutputTensorAddress, setTensorAddress or setOutputAllocator before enqueue/execute.)\n"
     ]
    }
   ],
   "source": [
    "import tensorRT_utils as utils\n",
    "import importlib\n",
    "importlib.reload(utils)\n",
    "\n",
    "model_path = \"models/trafficcamnet_pruned_onnx_v1.0.4/resnet18_trafficcamnet_pruned.onnx\"\n",
    "class_names = None\n",
    "# Create inference engine\n",
    "engine = utils.TensorRTInference(model_path)\n",
    "\n",
    "# Path to test image\n",
    "test_image_path = \"images/image2.png\"\n",
    "\n",
    "# Run inference\n",
    "prediction, confidence = engine.classify_image(test_image_path, class_names)\n",
    "\n",
    "print(f\"Prediction: {prediction}\")\n",
    "print(f\"Confidence: {confidence:.4f}\")\n",
    "\n"
   ]
  }
 ],
 "metadata": {
  "kernelspec": {
   "display_name": "env_compression",
   "language": "python",
   "name": "python3"
  },
  "language_info": {
   "codemirror_mode": {
    "name": "ipython",
    "version": 3
   },
   "file_extension": ".py",
   "mimetype": "text/x-python",
   "name": "python",
   "nbconvert_exporter": "python",
   "pygments_lexer": "ipython3",
   "version": "3.12.3"
  }
 },
 "nbformat": 4,
 "nbformat_minor": 2
}
