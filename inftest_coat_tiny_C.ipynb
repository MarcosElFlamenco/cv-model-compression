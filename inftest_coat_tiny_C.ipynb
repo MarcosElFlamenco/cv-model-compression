{
 "cells": [
  {
   "cell_type": "code",
   "execution_count": 2,
   "metadata": {},
   "outputs": [],
   "source": [
    "import onnxruntime as ort\n",
    "import numpy as np\n",
    "from PIL import Image\n",
    "\n",
    "# Load and preprocess image (resize to 224x224, convert to RGB)\n",
    "image = Image.open(\"images/image2.png\").convert(\"RGB\").resize((224, 224))\n",
    "# Convert to numpy array, normalize, and add batch dimension\n",
    "input_data = np.array(image).astype(np.float32) / 255.0  # Normalize to [0,1]\n",
    "input_data = input_data.transpose(2, 0, 1)  # HWC to CHW format\n",
    "input_data = np.expand_dims(input_data, axis=0)  # Add batch dimension\n",
    "\n",
    "# Load ONNX model\n",
    "model_path = \"models/coat_tiny_Opset16.onnx\"\n",
    "session = ort.InferenceSession(model_path)\n",
    "\n",
    "# Get input and output names\n",
    "input_name = session.get_inputs()[0].name\n",
    "output_name = session.get_outputs()[0].name\n",
    "\n",
    "# Run inference\n",
    "results = session.run([output_name], {input_name: input_data})"
   ]
  },
  {
   "cell_type": "code",
   "execution_count": 3,
   "metadata": {},
   "outputs": [
    {
     "name": "stdout",
     "output_type": "stream",
     "text": [
      "Predictions:\n",
      "convertible | 5.532358169555664\n",
      "beach wagon, station wagon, wagon, estate car, beach waggon, station waggon, waggon | 5.024717330932617\n",
      "cab, hack, taxi, taxicab | 4.652060508728027\n",
      "pickup, pickup truck | 4.5331573486328125\n",
      "grille, radiator grille | 4.404714584350586\n"
     ]
    }
   ],
   "source": [
    "import inference_utils as utils\n",
    "import importlib\n",
    "importlib.reload(utils)\n",
    "\n",
    "predictions = results[0][0]\n",
    "\n",
    "top5_indices_p = np.argpartition(predictions, -5)[-5:]\n",
    "top5_indices_p = top5_indices_p[np.argsort(predictions[top5_indices_p])[::-1]]  # Sort these indices by values\n",
    "top5_values_p = predictions[top5_indices_p]\n",
    "\n",
    "labels_file = \"imagenet_labels.txt\"\n",
    "\n",
    "utils.print_top_n_results(top5_values_p,top5_indices_p,labels_file)"
   ]
  }
 ],
 "metadata": {
  "kernelspec": {
   "display_name": "env_compression",
   "language": "python",
   "name": "python3"
  },
  "language_info": {
   "codemirror_mode": {
    "name": "ipython",
    "version": 3
   },
   "file_extension": ".py",
   "mimetype": "text/x-python",
   "name": "python",
   "nbconvert_exporter": "python",
   "pygments_lexer": "ipython3",
   "version": "3.12.3"
  }
 },
 "nbformat": 4,
 "nbformat_minor": 2
}
